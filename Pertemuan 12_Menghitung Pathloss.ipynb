{
  "nbformat": 4,
  "nbformat_minor": 0,
  "metadata": {
    "colab": {
      "name": "Pertemuan 12_Menghitung Pathloss.ipynb",
      "provenance": [],
      "collapsed_sections": [],
      "authorship_tag": "ABX9TyN02Vzs9NSOTR6f0NkAv6/o",
      "include_colab_link": true
    },
    "kernelspec": {
      "name": "python3",
      "display_name": "Python 3"
    }
  },
  "cells": [
    {
      "cell_type": "markdown",
      "metadata": {
        "id": "view-in-github",
        "colab_type": "text"
      },
      "source": [
        "<a href=\"https://colab.research.google.com/github/Regita17/Pemrograman-Python/blob/main/Pertemuan%2012_Menghitung%20Pathloss.ipynb\" target=\"_parent\"><img src=\"https://colab.research.google.com/assets/colab-badge.svg\" alt=\"Open In Colab\"/></a>"
      ]
    },
    {
      "cell_type": "code",
      "metadata": {
        "id": "MJbTMY-bhR7L"
      },
      "source": [
        "import numpy as np"
      ],
      "execution_count": 4,
      "outputs": []
    },
    {
      "cell_type": "code",
      "metadata": {
        "colab": {
          "base_uri": "https://localhost:8080/"
        },
        "id": "HOeTRxJPTIig",
        "outputId": "c84c7013-7c57-43f1-cf85-be33f873a790"
      },
      "source": [
        "#input jarak, frekuensi, tipe area, tinggi antenna pemancar, tinggi antenna penerima\r\n",
        "d=int(input(\"Jarak Pengirim dan Penerima (km)\\t\\t: \"))\r\n",
        "f=int(input(\"Frekuensi(range 150-2000 MHz)\\t\\t\\t: \"))\r\n",
        "type=input(\"Tipe area (Urban, Suburban, atau Open)\\t\\t: \")\r\n",
        "ht=int(input(\"Tinggi antena pemancar(range 30-200 m)\\t\\t: \"))\r\n",
        "hr=int(input(\"Tinggi antena penerima(range 1-30 m)\\t\\t: \"))"
      ],
      "execution_count": 8,
      "outputs": [
        {
          "output_type": "stream",
          "text": [
            "Jarak Pengirim dan Penerima (km)\t\t: 10\n",
            "Frekuensi(range 150-2000 MHz)\t\t\t: 300\n",
            "Tipe area (Urban, Suburban, atau Open)\t\t: Open\n",
            "Tinggi antena pemancar(range 30-200 m)\t\t: 100\n",
            "Tinggi antena penerima(range 1-30 m)\t\t: 10\n"
          ],
          "name": "stdout"
        }
      ]
    },
    {
      "cell_type": "code",
      "metadata": {
        "id": "kh0tiaWsTMSp"
      },
      "source": [
        "def PL():\r\n",
        "  #nilai C1&C2\r\n",
        "  if (150<=f<=1500):\r\n",
        "    C1=69.55\r\n",
        "    C2=26.16\r\n",
        "  elif (1500<f<=2000):\r\n",
        "    C1=46.3\r\n",
        "    C2=33.9\r\n",
        "  #menghitung a\r\n",
        "  a=((1.1*np.log10(f)-0.7)*hr)-((1.56*np.log10(f))-0.8)\r\n",
        "  #menghitung Cm\r\n",
        "  if type=='Urban':\r\n",
        "    Cm=0\r\n",
        "  elif type=='Suburban':\r\n",
        "    Cm=(-2*((np.log10(f/28))**2))-(5.4)\r\n",
        "  elif type=='Open':\r\n",
        "    Cm=(-4.78*((np.log10(f))**2))+(18.33*(np.log10(f)))-(40.94)\r\n",
        "  #menghitung Pathloss\r\n",
        "  lp=(C1)+(C2*np.log10(f))-(13.83*np.log10(ht))-(a)+((44.9-(6.55*np.log10(ht)))*np.log10(d))+(Cm)\r\n",
        "  \r\n",
        "  return lp"
      ],
      "execution_count": 9,
      "outputs": []
    },
    {
      "cell_type": "code",
      "metadata": {
        "colab": {
          "base_uri": "https://localhost:8080/"
        },
        "id": "6wqkkn9QTNqB",
        "outputId": "0a62e426-011e-46a5-eac7-2ef00564cad3"
      },
      "source": [
        "n=PL()\r\n",
        "print ('Nilai pathloss model COST 231 adalah',n,'dB')"
      ],
      "execution_count": 10,
      "outputs": [
        {
          "output_type": "stream",
          "text": [
            "Nilai pathloss model COST 231 adalah 96.44239996133305 dB\n"
          ],
          "name": "stdout"
        }
      ]
    },
    {
      "cell_type": "code",
      "metadata": {
        "id": "GalEBvVRTWae"
      },
      "source": [
        ""
      ],
      "execution_count": null,
      "outputs": []
    }
  ]
}